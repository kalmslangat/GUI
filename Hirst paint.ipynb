{
 "cells": [
  {
   "cell_type": "code",
   "execution_count": 1,
   "id": "688600e1",
   "metadata": {},
   "outputs": [
    {
     "name": "stdout",
     "output_type": "stream",
     "text": [
      "Requirement already satisfied: colorgram.py in c:\\users\\admin\\anaconda3\\lib\\site-packages (1.2.0)\n",
      "Requirement already satisfied: pillow>=3.3.1 in c:\\users\\admin\\anaconda3\\lib\\site-packages (from colorgram.py) (9.2.0)\n",
      "Note: you may need to restart the kernel to use updated packages.\n"
     ]
    }
   ],
   "source": [
    "pip install colorgram.py\n"
   ]
  },
  {
   "cell_type": "code",
   "execution_count": 2,
   "id": "e34c3d58",
   "metadata": {},
   "outputs": [],
   "source": [
    "import colorgram"
   ]
  },
  {
   "cell_type": "code",
   "execution_count": 3,
   "id": "c6901082",
   "metadata": {},
   "outputs": [],
   "source": [
    "# from IPython.display import Image\n",
    "# Image(url=\"images/no_regrets_cat.jpg\", width=400, height=400)\n",
    "colors=colorgram.extract(\"Voyage-to-Paradise-small-art-by-Swarez.jpg\",20) "
   ]
  },
  {
   "cell_type": "code",
   "execution_count": 4,
   "id": "73b6fc0c",
   "metadata": {},
   "outputs": [
    {
     "name": "stdout",
     "output_type": "stream",
     "text": [
      "[<colorgram.py Color: Rgb(r=65, g=93, b=126), 28.471253272072893%>, <colorgram.py Color: Rgb(r=214, g=233, b=60), 11.669012917969827%>, <colorgram.py Color: Rgb(r=62, g=119, b=101), 9.339239897661555%>, <colorgram.py Color: Rgb(r=161, g=174, b=46), 6.363023148698674%>, <colorgram.py Color: Rgb(r=212, g=232, b=9), 6.110656169723544%>, <colorgram.py Color: Rgb(r=28, g=47, b=71), 5.517957260665491%>, <colorgram.py Color: Rgb(r=114, g=99, b=71), 4.5208480569040805%>, <colorgram.py Color: Rgb(r=173, g=177, b=96), 4.334792319112333%>, <colorgram.py Color: Rgb(r=110, g=160, b=192), 4.035379150229493%>, <colorgram.py Color: Rgb(r=74, g=160, b=122), 3.9452332499206806%>, <colorgram.py Color: Rgb(r=111, g=183, b=128), 3.570058059983373%>, <colorgram.py Color: Rgb(r=106, g=88, b=101), 2.6907201130770235%>, <colorgram.py Color: Rgb(r=44, g=59, b=98), 2.5572148655574636%>, <colorgram.py Color: Rgb(r=111, g=117, b=162), 1.7545736322203047%>, <colorgram.py Color: Rgb(r=50, g=162, b=181), 1.1350282770449385%>, <colorgram.py Color: Rgb(r=53, g=36, b=50), 1.0607202221244834%>, <colorgram.py Color: Rgb(r=50, g=41, b=27), 0.8217505025270451%>, <colorgram.py Color: Rgb(r=25, g=53, b=42), 0.7949559837716608%>, <colorgram.py Color: Rgb(r=31, g=85, b=72), 0.7036676815004099%>, <colorgram.py Color: Rgb(r=158, g=141, b=149), 0.6039152192347257%>]\n"
     ]
    }
   ],
   "source": [
    "print(colors)"
   ]
  },
  {
   "cell_type": "code",
   "execution_count": 5,
   "id": "ae9f0aea",
   "metadata": {},
   "outputs": [
    {
     "name": "stdout",
     "output_type": "stream",
     "text": [
      "[(65, 93, 126), (214, 233, 60), (62, 119, 101), (161, 174, 46), (212, 232, 9), (28, 47, 71), (114, 99, 71), (173, 177, 96), (110, 160, 192), (74, 160, 122), (111, 183, 128), (106, 88, 101), (44, 59, 98), (111, 117, 162), (50, 162, 181), (53, 36, 50), (50, 41, 27), (25, 53, 42), (31, 85, 72), (158, 141, 149)]\n"
     ]
    }
   ],
   "source": [
    "rgb_colors = []\n",
    "for color in colors:\n",
    "    r = color.rgb.r\n",
    "    g = color.rgb.g\n",
    "    b = color.rgb.b\n",
    "    new_color= (r,g,b)\n",
    "    rgb_colors.append(new_color)\n",
    "print(rgb_colors)"
   ]
  },
  {
   "cell_type": "code",
   "execution_count": 6,
   "id": "8065c9db",
   "metadata": {},
   "outputs": [],
   "source": [
    "colour_list =[(65, 93, 126), (214, 233, 60), (62, 119, 101), (161, 174, 46), (212, 232, 9), (28, 47, 71), (114, 99, 71), (173, 177, 96), (110, 160, 192), (74, 160, 122), (111, 183, 128), (106, 88, 101), (44, 59, 98), (111, 117, 162), (50, 162, 181), (53, 36, 50), (50, 41, 27), (25, 53, 42), (31, 85, 72), (158, 141, 149)]"
   ]
  },
  {
   "cell_type": "code",
   "execution_count": 7,
   "id": "045d9242",
   "metadata": {},
   "outputs": [],
   "source": [
    "import turtle\n",
    "kim = turtle.Turtle()\n",
    "turtle.colormode(255)\n",
    "kim.hideturtle()\n",
    "kim.penup()\n",
    "kim.setheading(225)\n",
    "kim.forward(300)\n",
    "kim.setheading(0)\n",
    "kim.speed(10)\n",
    "import random\n",
    "num = 100\n",
    "# kim.color(random.choice(colour_list))\n",
    "for dot_count in range(1,num+1):\n",
    "    kim.dot(24,random.choice(colour_list))\n",
    "    kim.forward(50)\n",
    "            \n",
    "    if dot_count % 10 == 0:\n",
    "        kim.setheading(90)\n",
    "        kim.forward(50)\n",
    "        kim.setheading(180)\n",
    "        kim.forward(500)\n",
    "        kim.setheading(0)\n",
    "    "
   ]
  },
  {
   "cell_type": "code",
   "execution_count": null,
   "id": "1f54bd65",
   "metadata": {},
   "outputs": [],
   "source": []
  }
 ],
 "metadata": {
  "kernelspec": {
   "display_name": "Python 3 (ipykernel)",
   "language": "python",
   "name": "python3"
  },
  "language_info": {
   "codemirror_mode": {
    "name": "ipython",
    "version": 3
   },
   "file_extension": ".py",
   "mimetype": "text/x-python",
   "name": "python",
   "nbconvert_exporter": "python",
   "pygments_lexer": "ipython3",
   "version": "3.9.13"
  }
 },
 "nbformat": 4,
 "nbformat_minor": 5
}
